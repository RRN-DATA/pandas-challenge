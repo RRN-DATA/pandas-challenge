{
 "cells": [
  {
   "cell_type": "code",
   "execution_count": null,
   "metadata": {},
   "outputs": [],
   "source": [
    "                                    Observed Trends in HeroesofPymoli\n",
    "1. 83.6% of the total players are Male\n",
    "2. Average purchase price for Female players is higher than that of Male players, but the Total Purchase Value spent by Male purchasers is the highest being $1,967.64\n",
    "3. Number of players in the agegroup of 20-24 is the highest being 258 out of 576\n",
    "4. Also, the amount spent by players in the age group 20-24 is the highest being $1,114.06 and the lowest amount spent was by >44yrs i.e $38.24\n",
    "\n"
   ]
  }
 ],
 "metadata": {
  "kernelspec": {
   "display_name": "Python [conda env:PythonData] *",
   "language": "python",
   "name": "conda-env-PythonData-py"
  },
  "language_info": {
   "codemirror_mode": {
    "name": "ipython",
    "version": 3
   },
   "file_extension": ".py",
   "mimetype": "text/x-python",
   "name": "python",
   "nbconvert_exporter": "python",
   "pygments_lexer": "ipython3",
   "version": "3.6.9"
  }
 },
 "nbformat": 4,
 "nbformat_minor": 2
}
